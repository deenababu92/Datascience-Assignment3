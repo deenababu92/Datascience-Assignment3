{
 "cells": [
  {
   "cell_type": "markdown",
   "id": "fd47b697",
   "metadata": {},
   "source": [
    "# Write a Python Program to implement your own myreduce() function which works exactly like Python's  built-in function reduce()"
   ]
  },
  {
   "cell_type": "code",
   "execution_count": 20,
   "id": "9ac5af0b",
   "metadata": {},
   "outputs": [
    {
     "name": "stdout",
     "output_type": "stream",
     "text": [
      "__________input-value_____________:\n",
      " Enter the number:15\n",
      "________output-value______________:\n",
      "list of first and natural numbers are: [1, 2, 3, 4, 5, 6, 7, 8, 9, 10, 11, 12, 13, 14, 15]\n",
      "sum of list elements are: 120\n"
     ]
    }
   ],
   "source": [
    "def myreduce(num):\n",
    "    no_list=list(range(1,number+1))\n",
    "    sum_f_elmnts=0\n",
    "    for i in no_list:\n",
    "        sum_f_elmnts+=i\n",
    "    return no_list,sum_f_elmnts\n",
    "print(\"__________input-value_____________:\")\n",
    "\n",
    "number = int(input(\" Enter the number:\"))\n",
    "\n",
    "output_value = myreduce(number)\n",
    "print(\"________output-value______________:\")\n",
    "print(\"list of first and natural numbers are:\", output_value[0])\n",
    "print(\"sum of list elements are:\", output_value[1])"
   ]
  },
  {
   "cell_type": "markdown",
   "id": "36841cd5",
   "metadata": {},
   "source": [
    "# 2Write a Python program to implement your own myfilter() function which works exactly like Python's built-in function filter()"
   ]
  },
  {
   "cell_type": "code",
   "execution_count": 22,
   "id": "26e2c137",
   "metadata": {},
   "outputs": [
    {
     "name": "stdout",
     "output_type": "stream",
     "text": [
      "Input:\n",
      "Please insert the number: 25\n",
      "Output:\n",
      "List of numbers: [1, 2, 3, 4, 5, 6, 7, 8, 9, 10, 11, 12, 13, 14, 15, 16, 17, 18, 19, 20, 21, 22, 23, 24, 25]\n",
      "List of Even numbers, which are multiples of 5 are: [10, 20]\n",
      "List of Odd numbers, which are multiples of 5 are: [5, 15, 25]\n"
     ]
    }
   ],
   "source": [
    "print(\"Input:\")\n",
    "number=int(input(\"Please insert the number: \"))\n",
    "\n",
    "no_list=list(range(1,number+1))\n",
    "\n",
    "\n",
    "def myfilter(no_list):\n",
    "    '''This function will filter even and odd numbers from list which are multiples of 5 '''\n",
    "    no_even_list=[]\n",
    "    no_odd_list=[]\n",
    "    \n",
    "    for i in no_list:\n",
    "        if(i%5==0):\n",
    "            if(i%2==0):\n",
    "                no_even_list.append(i)\n",
    "            else:\n",
    "                no_odd_list.append(i)\n",
    "                \n",
    "    return no_even_list,no_odd_list\n",
    "\n",
    "\n",
    "#Function Execution\n",
    "output_value=myfilter(no_list)\n",
    "\n",
    "#Output\n",
    "\n",
    "print(\"Output:\")\n",
    "print(\"List of numbers:\",no_list)\n",
    "print(\"List of Even numbers, which are multiples of 5 are:\",output_value[0])\n",
    "print(\"List of Odd numbers, which are multiples of 5 are:\",output_value[1])"
   ]
  },
  {
   "cell_type": "markdown",
   "id": "7d7df683",
   "metadata": {},
   "source": [
    "# 2. Implement List comprehensions to produce the following lists.\n",
    "Write List comprehensions to produce the following Lists\n",
    "['A', 'C', 'A', 'D', 'G', 'I', ’L’, ‘ D’]\n",
    "['x', 'xx', 'xxx', 'xxxx', 'y', 'yy', 'yyy', 'yyyy', 'z', 'zz', 'zzz', 'zzzz']\n",
    "['x', 'y', 'z', 'xx', 'yy', 'zz', 'xxx', 'yyy', 'zzz', 'xxxx', 'yyyy', 'zzzz']\n",
    "[[2], [3], [4], [3], [4], [5], [4], [5], [6]] [[2, 3, 4, 5], [3, 4, 5, 6],\n",
    "[4, 5, 6, 7], [5, 6, 7, 8]]\n",
    "[(1, 1), (2, 1), (3, 1), (1, 2), (2, 2), (3, 2), (1,3), (2, 3), (3, 3)]"
   ]
  },
  {
   "cell_type": "code",
   "execution_count": 23,
   "id": "bba45436",
   "metadata": {},
   "outputs": [
    {
     "name": "stdout",
     "output_type": "stream",
     "text": [
      "Output:\n",
      "['A', 'C', 'A', 'D', 'G', 'I', 'L', 'D']\n",
      "['x', 'xx', 'xxx', 'xxxx', 'y', 'yy', 'yyy', 'yyyy', 'z', 'zz', 'zzz', 'zzzz']\n",
      "['x', 'y', 'z', 'xx', 'yy', 'zz', 'xxx', 'yyy', 'zzz', 'xxxx', 'yyyy', 'zzzz']\n",
      "[[2], [3], [4], [3], [4], [5], [4], [5], [6]]\n",
      "[[2, 3, 4, 5], [3, 4, 5, 6], [4, 5, 6, 7], [5, 6, 7, 8]]\n",
      "[(1, 1), (2, 1), (3, 1), (1, 2), (2, 2), (3, 2), (1, 3), (2, 3), (3, 3)]\n"
     ]
    }
   ],
   "source": [
    "#Section 1\n",
    "word=\"ACADGILD\"\n",
    "#list Comprehension\n",
    "output_list=[w.upper() for w in list(word)]\n",
    "print(\"Output:\")\n",
    "print(output_list)\n",
    "\n",
    "#Section 2\n",
    "word_1=list('xyz')\n",
    "word_2=[x*n for x in word_1 for n in range(1,5) ]\n",
    "print(word_2)\n",
    "\n",
    "#Section 3\n",
    "word_3=[x*n for n in range(1,5) for x in word_1 ]\n",
    "print(word_3)\n",
    "\n",
    "#Section 4\n",
    "number=[2,3,4]\n",
    "number_1=[[x+n] for x in number for n in range(0,3)]\n",
    "print(number_1)\n",
    "\n",
    "#Section 5\n",
    "number_2=[2,3,4,5]\n",
    "number_3=[[x+n for n in range(0,4)] for x in number_2 ]\n",
    "print(number_3)\n",
    "\n",
    "#Section 6\n",
    "number_4=[1,2,3]\n",
    "number_5= [(b,a) for a in number_4 for b in number_4]\n",
    "print(number_5)"
   ]
  },
  {
   "cell_type": "code",
   "execution_count": null,
   "id": "5313c960",
   "metadata": {},
   "outputs": [],
   "source": []
  }
 ],
 "metadata": {
  "kernelspec": {
   "display_name": "Python 3",
   "language": "python",
   "name": "python3"
  },
  "language_info": {
   "codemirror_mode": {
    "name": "ipython",
    "version": 3
   },
   "file_extension": ".py",
   "mimetype": "text/x-python",
   "name": "python",
   "nbconvert_exporter": "python",
   "pygments_lexer": "ipython3",
   "version": "3.8.8"
  }
 },
 "nbformat": 4,
 "nbformat_minor": 5
}
