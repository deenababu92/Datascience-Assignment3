{
 "cells": [
  {
   "cell_type": "markdown",
   "id": "3f06da66",
   "metadata": {},
   "source": [
    "# Write a Python Program to implement your own myreduce() function which works exactly like Python's  built-in function reduce()"
   ]
  },
  {
   "cell_type": "code",
   "execution_count": 20,
   "id": "6778e22d",
   "metadata": {},
   "outputs": [
    {
     "name": "stdout",
     "output_type": "stream",
     "text": [
      "__________input-value_____________:\n",
      " Enter the number:15\n",
      "________output-value______________:\n",
      "list of first and natural numbers are: [1, 2, 3, 4, 5, 6, 7, 8, 9, 10, 11, 12, 13, 14, 15]\n",
      "sum of list elements are: 120\n"
     ]
    }
   ],
   "source": [
    "def myreduce(num):\n",
    "    no_list=list(range(1,number+1))\n",
    "    sum_f_elmnts=0\n",
    "    for i in no_list:\n",
    "        sum_f_elmnts+=i\n",
    "    return no_list,sum_f_elmnts\n",
    "print(\"__________input-value_____________:\")\n",
    "\n",
    "number = int(input(\" Enter the number:\"))\n",
    "\n",
    "output_value = myreduce(number)\n",
    "print(\"________output-value______________:\")\n",
    "print(\"list of first and natural numbers are:\", output_value[0])\n",
    "print(\"sum of list elements are:\", output_value[1])"
   ]
  },
  {
   "cell_type": "code",
   "execution_count": null,
   "id": "4864f662",
   "metadata": {},
   "outputs": [],
   "source": []
  },
  {
   "cell_type": "code",
   "execution_count": null,
   "id": "75cf8d31",
   "metadata": {},
   "outputs": [],
   "source": []
  }
 ],
 "metadata": {
  "kernelspec": {
   "display_name": "Python 3",
   "language": "python",
   "name": "python3"
  },
  "language_info": {
   "codemirror_mode": {
    "name": "ipython",
    "version": 3
   },
   "file_extension": ".py",
   "mimetype": "text/x-python",
   "name": "python",
   "nbconvert_exporter": "python",
   "pygments_lexer": "ipython3",
   "version": "3.8.8"
  }
 },
 "nbformat": 4,
 "nbformat_minor": 5
}
